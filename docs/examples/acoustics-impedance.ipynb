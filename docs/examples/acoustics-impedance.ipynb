{
 "cells": [
  {
   "cell_type": "code",
   "execution_count": null,
   "metadata": {},
   "outputs": [],
   "source": [
    "import matplotlib.pyplot as plt\n",
    "%matplotlib inline\n",
    "import numpy as np\n",
    "import flowdyn.mesh           as mesh\n",
    "import flowdyn.xnum           as Xnum\n",
    "import flowdyn.integration    as Tnum\n",
    "import flowdyn.modelphy.euler as euler\n",
    "import flowdyn.modeldisc      as modeldisc\n",
    "#\n",
    "plt.rcParams['figure.dpi'] = 120\n",
    "plt.rcParams['savefig.dpi'] = 120\n",
    "plt.rcParams[\"animation.html\"] = \"jshtml\"  # for matplotlib 2.1 and above, uses JavaScript"
   ]
  },
  {
   "cell_type": "markdown",
   "metadata": {},
   "source": [
    "## Set up a acoustic wave propagating through an interface\n",
    "\n",
    "A planar acoustic wave is defined by a (gaussian) profile of u. Using (non linear) characteristic invariant, the associated perturbation of p is computed to ensure a forward propagating wave. Density is then computed to ensure a isentropic flow. But an interface (discontinuity of density) is defined at x=6."
   ]
  },
  {
   "cell_type": "code",
   "execution_count": null,
   "metadata": {},
   "outputs": [],
   "source": [
    "meshsim  = mesh.unimesh(ncell=200,  length=1.)\n",
    "#meshref  = unimesh(ncell=1000, length=1.)\n",
    "\n",
    "model = euler.model()\n",
    "\n",
    "bcL  = { 'type': 'sym' } # not physical but can work\n",
    "bcR  = { 'type': 'sym' } # for wall\n",
    "xnum = Xnum.muscl(Xnum.vanalbada) ; flux = 'hllc'\n",
    "#xnum = Xnum.extrapol1() ; flux = 'centered'\n",
    "\n",
    "rhs = modeldisc.fvm(model, meshsim, numflux=flux, num=xnum, bcL=bcL, bcR=bcR)\n",
    "solver = Tnum.lsrk26bb(meshsim, rhs)\n",
    "\n",
    "# computation\n",
    "#\n",
    "nsol    = 100\n",
    "endtime = .8\n",
    "cfl     = .8\n",
    "\n",
    "# initial functions\n",
    "def fu(x):\n",
    "    vmag = .01 #; k = 10.\n",
    "    return vmag*np.exp(-500*(x-.2)**2) #*np.sin(2*np.pi*k*x)\n",
    "def fp(x): # gamma = 1.4\n",
    "    return (1. + .2*fu(x))**7.  # satisfies C- invariant to make only C+ wave\n",
    "def frho(x):\n",
    "    rhoratio = 10.\n",
    "    return 1.4 * ( fp(x)**(1./1.4)*(x<.6) + rhoratio*(x>.6) )\n",
    "\n",
    "xc    = meshsim.centers()\n",
    "finit = rhs.fdata_fromprim([ frho(xc), fu(xc), fp(xc) ]) # rho, u, p\n",
    "\n",
    "fsol = solver.solve(finit, cfl, np.linspace(0., endtime, nsol+1))\n",
    "solver.show_perf()\n",
    "\n",
    "# Figure / Plot\n",
    "\n",
    "varname='pressure' # mach, pressure, entropy\n",
    "ttime = [ fsol[i].time for i in range(nsol+1) ]\n",
    "xx, xt = np.meshgrid(xc, ttime)\n",
    "solgrid = [ fsol[i].phydata(varname) for i in range(nsol+1) ]\n",
    "vmin, vmax = np.min(solgrid), np.max(solgrid)\n",
    "#\n",
    "# Figure / Plot of final results\n",
    "fig, (ax1,ax2) = plt.subplots(1, 2, figsize=(12,4))\n",
    "ax1.set_ylabel(varname) ; ax1.set_ylim(vmin, vmax)\n",
    "ax1.grid(linestyle='--', color='0.5')\n",
    "finit.plot(varname, 'k-', axes=ax1)\n",
    "line1, = fsol[-1].plot(varname, 'b-', axes=ax1)\n",
    "ax2.set_ylabel('t') ; ax2.set_xlim(0., 1.)\n",
    "#ax2.grid(linestyle='--', color='0.5')\n",
    "flood  = ax2.contour(xx, xt, solgrid, np.linspace(vmin, vmax, 50))\n",
    "line2, = ax2.plot([0., 10.], [ttime[-1], ttime[-1]], 'k--')\n",
    "plt.show()\n"
   ]
  },
  {
   "cell_type": "code",
   "execution_count": null,
   "metadata": {},
   "outputs": [],
   "source": [
    "import matplotlib.animation as anim\n",
    "#\n",
    "def animate(k):\n",
    "    fsol[k].set_plotdata(line1, varname)\n",
    "    line2.set_data([0., 10.], [ttime[k], ttime[k]])\n",
    "    return line1, line2\n",
    "\n",
    "ani = anim.FuncAnimation(fig=fig, func=animate, frames=range(nsol+1), interval=100)#, blit=True)\n",
    "ani"
   ]
  },
  {
   "cell_type": "markdown",
   "metadata": {},
   "source": [
    "## Comments\n",
    "\n",
    "The interaction of the acoustic wave with the interface produces a reflected wave and a transmitted one. Waves velocities are well captured. However, the propagation suffers (a non expected) dissipation. \n"
   ]
  }
 ],
 "metadata": {
  "interpreter": {
   "hash": "b07b0bcd7781912fd67e8bd6039bceb2990d14492e678aec0ec57ec8d700a77a"
  },
  "kernelspec": {
   "display_name": "Python 3.7.9 64-bit ('3.7.9': pyenv)",
   "name": "python3"
  },
  "language_info": {
   "codemirror_mode": {
    "name": "ipython",
    "version": 3
   },
   "file_extension": ".py",
   "mimetype": "text/x-python",
   "name": "python",
   "nbconvert_exporter": "python",
   "pygments_lexer": "ipython3",
   "version": "3.7.9"
  }
 },
 "nbformat": 4,
 "nbformat_minor": 2
}
