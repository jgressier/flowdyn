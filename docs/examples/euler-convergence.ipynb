{
 "cells": [
  {
   "cell_type": "code",
   "execution_count": null,
   "metadata": {},
   "outputs": [],
   "source": [
    "import matplotlib.pyplot as plt\n",
    "import numpy as np \n",
    "%matplotlib inline\n",
    "import flowdyn.mesh           as mesh\n",
    "import flowdyn.xnum           as xnum\n",
    "import flowdyn.integration    as tnum\n",
    "import flowdyn.modelphy.euler as euler\n",
    "import flowdyn.modeldisc      as modeldisc\n",
    "#\n",
    "plt.rcParams['figure.dpi'] = 120\n",
    "plt.rcParams['savefig.dpi'] = 120\n",
    "plt.rcParams[\"animation.html\"] = \"jshtml\"  # for matplotlib 2.1 and above, uses JavaScript"
   ]
  },
  {
   "cell_type": "code",
   "execution_count": null,
   "metadata": {},
   "outputs": [],
   "source": [
    "nx = 200\n",
    "meshsim  = mesh.unimesh(ncell=nx,  length=10.)\n",
    "\n",
    "def S(x): # non-symmetric nozzle\n",
    "    return 1.+(.2*(x<5)+2*(x>5))*(1-np.exp(-.5*(x-5.)**2))\n",
    "\n",
    "model = euler.nozzle(sectionlaw=S)\n",
    "# NPR is ptot/p\n",
    "bcL = { 'type': 'insub',  'ptot': 3., 'rttot': 1. }\n",
    "bcR = { 'type': 'outsub', 'p': 1. }\n",
    "\n",
    "monitors = {\n",
    "    'residual':{ 'name':'L2 residuals', 'frequency': 10 },\n",
    "    'data_average':{ 'data': 'mach', 'name':'Mach average', 'frequency': 1 }\n",
    "    }\n",
    "rhs    = modeldisc.fvm(model, meshsim, xnum.muscl(xnum.vanalbada), bcL=bcL, bcR=bcR)\n",
    "\n",
    "finit = rhs.fdata_fromprim([  1., 0.5, 1. ]) # rho, u, p"
   ]
  },
  {
   "cell_type": "code",
   "execution_count": null,
   "metadata": {},
   "outputs": [],
   "source": [
    "params = {\n",
    "    'RK3SSP - global CFL 2.' : (tnum.rk3ssp, 1., ''),\n",
    "    'RK3SSP - local CFL 2.' : (tnum.rk3ssp, 1., 'dtlocal'),\n",
    "} \n",
    "output = dict()\n",
    "\n",
    "for name, (integ, cfl, dtdirective) in params.items():\n",
    "    output[name] = dict()\n",
    "    print(name, cfl, dtdirective)\n",
    "    mon = {key: value.copy() for key, value in monitors.items()}\n",
    "    dir = {'verbose': True, dtdirective: ''}\n",
    "    solver = integ(meshsim, rhs, monitors=mon)\n",
    "    fsol = solver.solve(finit, cfl, stop={'maxit': 4000}, directives=dir)\n",
    "    for imon in mon.values():\n",
    "        output[name][imon['name']] = imon['output']\n",
    "    output[name]['perf'] = solver.show_perf()"
   ]
  },
  {
   "cell_type": "code",
   "execution_count": null,
   "metadata": {
    "scrolled": false
   },
   "outputs": [],
   "source": [
    "# Figure / Plot of final results\n",
    "fig, ax = plt.subplots(1, len(monitors.keys()), figsize=(10,4))\n",
    "for iax, lab in zip(ax, mon.values()):\n",
    "    iax.grid(linestyle='--', color='0.5')\n",
    "    iax.set_ylabel(lab['name'])\n",
    "for name in params.keys():\n",
    "    output[name]['L2 residuals'].semilogplot_it(ax=ax[0])\n",
    "    output[name]['Mach average'].plot_it(ax=ax[1])"
   ]
  },
  {
   "cell_type": "code",
   "execution_count": null,
   "metadata": {},
   "outputs": [],
   "source": [
    "fsol[-1].plot('mach')"
   ]
  },
  {
   "cell_type": "code",
   "execution_count": null,
   "metadata": {},
   "outputs": [],
   "source": []
  }
 ],
 "metadata": {
  "kernelspec": {
   "display_name": "Python 3.7.9 64-bit ('3.7.9')",
   "language": "python",
   "name": "python3"
  },
  "language_info": {
   "codemirror_mode": {
    "name": "ipython",
    "version": 3
   },
   "file_extension": ".py",
   "mimetype": "text/x-python",
   "name": "python",
   "nbconvert_exporter": "python",
   "pygments_lexer": "ipython3",
   "version": "3.7.9"
  },
  "vscode": {
   "interpreter": {
    "hash": "b07b0bcd7781912fd67e8bd6039bceb2990d14492e678aec0ec57ec8d700a77a"
   }
  }
 },
 "nbformat": 4,
 "nbformat_minor": 2
}
